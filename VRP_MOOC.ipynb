{
 "cells": [
  {
   "cell_type": "markdown",
   "id": "2ce1a43c",
   "metadata": {},
   "source": [
    "## GIS for Climate Action - VRP exercise using Python API"
   ]
  },
  {
   "cell_type": "markdown",
   "id": "9ae20d19",
   "metadata": {},
   "source": [
    "This notebook solves VRP for a Farm Collective that delivers fresh produce from the farms in Canterbury, New Zealand directly to residents in the nearby city of Christchurch and surrounding towns. Here are the steps  to solve the problem with inputs to get routes that can be opened in Navigator or other navigation app. This notebook uses ArcGIS API for Python for automating the workflow.\n"
   ]
  },
  {
   "cell_type": "markdown",
   "id": "6a07da98",
   "metadata": {},
   "source": [
    "### 1. Import required python libraries"
   ]
  },
  {
   "cell_type": "code",
   "execution_count": null,
   "id": "a7b43b91",
   "metadata": {},
   "outputs": [],
   "source": [
    "import arcgis\n",
    "from arcgis.gis import GIS\n",
    "import pandas as pd\n",
    "import datetime\n",
    "from arcgis import geocoding\n",
    "from arcgis.features import Feature, FeatureSet"
   ]
  },
  {
   "cell_type": "markdown",
   "id": "c483620b",
   "metadata": {},
   "source": [
    "### 2. Authenticate the connection\n",
    "A few other ways of authentication : https://developers.arcgis.com/python/guide/working-with-different-authentication-schemes/"
   ]
  },
  {
   "cell_type": "code",
   "execution_count": null,
   "id": "e512b198",
   "metadata": {},
   "outputs": [
    {
     "name": "stdout",
     "output_type": "stream",
     "text": [
      "Logged in as anonymous user to ArcGIS Online\n",
      "Logged in as arcgis_python\n"
     ]
    }
   ],
   "source": [
    "my_gis = GIS(\"https://geosaurus.maps.arcgis.com/home/index.html\", \"arcgis_python\", \"amazing_arcgis_123\") \n",
    "    \n",
    "print(\"Logged in as anonymous user to \" + my_gis.properties.portalName)\n",
    "print(\"Logged in as \" + str(my_gis.properties.user.username))"
   ]
  },
  {
   "cell_type": "markdown",
   "id": "29fcaa13",
   "metadata": {},
   "source": [
    "### 3. Create Orders Layer with Address Information"
   ]
  },
  {
   "cell_type": "code",
   "execution_count": null,
   "id": "7353beb1",
   "metadata": {},
   "outputs": [
    {
     "ename": "FileNotFoundError",
     "evalue": "[Errno 2] No such file or directory: 'Addresses.csv'",
     "output_type": "error",
     "traceback": [
      "\u001b[0;31m---------------------------------------------------------------------------\u001b[0m\n\u001b[0;31mFileNotFoundError\u001b[0m                         Traceback (most recent call last)",
      "In  \u001b[0;34m[4]\u001b[0m:\nLine \u001b[0;34m4\u001b[0m:     orders_df = pd.read_csv(orders_csv)\n",
      "File \u001b[0;34mC:\\Program Files\\ArcGIS\\Pro\\bin\\Python\\envs\\arcgispro-py3\\Lib\\site-packages\\pandas\\util\\_decorators.py\u001b[0m, in \u001b[0;32mwrapper\u001b[0m:\nLine \u001b[0;34m311\u001b[0m:   \u001b[34mreturn\u001b[39;49;00m func(*args, **kwargs)\n",
      "File \u001b[0;34mC:\\Program Files\\ArcGIS\\Pro\\bin\\Python\\envs\\arcgispro-py3\\Lib\\site-packages\\pandas\\io\\parsers\\readers.py\u001b[0m, in \u001b[0;32mread_csv\u001b[0m:\nLine \u001b[0;34m678\u001b[0m:   \u001b[34mreturn\u001b[39;49;00m _read(filepath_or_buffer, kwds)\n",
      "File \u001b[0;34mC:\\Program Files\\ArcGIS\\Pro\\bin\\Python\\envs\\arcgispro-py3\\Lib\\site-packages\\pandas\\io\\parsers\\readers.py\u001b[0m, in \u001b[0;32m_read\u001b[0m:\nLine \u001b[0;34m575\u001b[0m:   parser = TextFileReader(filepath_or_buffer, **kwds)\n",
      "File \u001b[0;34mC:\\Program Files\\ArcGIS\\Pro\\bin\\Python\\envs\\arcgispro-py3\\Lib\\site-packages\\pandas\\io\\parsers\\readers.py\u001b[0m, in \u001b[0;32m__init__\u001b[0m:\nLine \u001b[0;34m932\u001b[0m:   \u001b[36mself\u001b[39;49;00m._engine = \u001b[36mself\u001b[39;49;00m._make_engine(f, \u001b[36mself\u001b[39;49;00m.engine)\n",
      "File \u001b[0;34mC:\\Program Files\\ArcGIS\\Pro\\bin\\Python\\envs\\arcgispro-py3\\Lib\\site-packages\\pandas\\io\\parsers\\readers.py\u001b[0m, in \u001b[0;32m_make_engine\u001b[0m:\nLine \u001b[0;34m1216\u001b[0m:  \u001b[36mself\u001b[39;49;00m.handles = get_handle(  \u001b[37m# type: ignore[call-overload]\u001b[39;49;00m\n",
      "File \u001b[0;34mC:\\Program Files\\ArcGIS\\Pro\\bin\\Python\\envs\\arcgispro-py3\\Lib\\site-packages\\pandas\\io\\common.py\u001b[0m, in \u001b[0;32mget_handle\u001b[0m:\nLine \u001b[0;34m786\u001b[0m:   handle = \u001b[36mopen\u001b[39;49;00m(\n",
      "\u001b[0;31mFileNotFoundError\u001b[0m: [Errno 2] No such file or directory: 'Addresses.csv'\n\u001b[0;31m---------------------------------------------------------------------------\u001b[0m"
     ]
    }
   ],
   "source": [
    "orders_csv = \"Addresses.csv\"\n",
    "\n",
    "# Read the csv file and convert the data to feature set\n",
    "orders_df = pd.read_csv(orders_csv)\n",
    "orders_sdf = pd.DataFrame.spatial.from_df(orders_df, \"Address\")\n",
    "orders_fset = orders_sdf.spatial.to_featureset()\n",
    "orders_fset"
   ]
  },
  {
   "cell_type": "markdown",
   "id": "22252a1f",
   "metadata": {},
   "source": [
    "### 4. Create Routes Layer"
   ]
  },
  {
   "cell_type": "code",
   "execution_count": null,
   "id": "5c1ce23f",
   "metadata": {},
   "outputs": [
    {
     "ename": "FileNotFoundError",
     "evalue": "[Errno 2] No such file or directory: 'routes.csv'",
     "output_type": "error",
     "traceback": [
      "\u001b[0;31m---------------------------------------------------------------------------\u001b[0m\n\u001b[0;31mFileNotFoundError\u001b[0m                         Traceback (most recent call last)",
      "In  \u001b[0;34m[5]\u001b[0m:\nLine \u001b[0;34m4\u001b[0m:     routes_df = pd.read_csv(routes_csv, parse_dates=[\u001b[33m\"\u001b[39;49;00m\u001b[33mEarliestStartTime\u001b[39;49;00m\u001b[33m\"\u001b[39;49;00m, \u001b[33m\"\u001b[39;49;00m\u001b[33mLatestStartTime\u001b[39;49;00m\u001b[33m\"\u001b[39;49;00m], date_parser=pd.to_datetime)\n",
      "File \u001b[0;34mC:\\Program Files\\ArcGIS\\Pro\\bin\\Python\\envs\\arcgispro-py3\\Lib\\site-packages\\pandas\\util\\_decorators.py\u001b[0m, in \u001b[0;32mwrapper\u001b[0m:\nLine \u001b[0;34m311\u001b[0m:   \u001b[34mreturn\u001b[39;49;00m func(*args, **kwargs)\n",
      "File \u001b[0;34mC:\\Program Files\\ArcGIS\\Pro\\bin\\Python\\envs\\arcgispro-py3\\Lib\\site-packages\\pandas\\io\\parsers\\readers.py\u001b[0m, in \u001b[0;32mread_csv\u001b[0m:\nLine \u001b[0;34m678\u001b[0m:   \u001b[34mreturn\u001b[39;49;00m _read(filepath_or_buffer, kwds)\n",
      "File \u001b[0;34mC:\\Program Files\\ArcGIS\\Pro\\bin\\Python\\envs\\arcgispro-py3\\Lib\\site-packages\\pandas\\io\\parsers\\readers.py\u001b[0m, in \u001b[0;32m_read\u001b[0m:\nLine \u001b[0;34m575\u001b[0m:   parser = TextFileReader(filepath_or_buffer, **kwds)\n",
      "File \u001b[0;34mC:\\Program Files\\ArcGIS\\Pro\\bin\\Python\\envs\\arcgispro-py3\\Lib\\site-packages\\pandas\\io\\parsers\\readers.py\u001b[0m, in \u001b[0;32m__init__\u001b[0m:\nLine \u001b[0;34m932\u001b[0m:   \u001b[36mself\u001b[39;49;00m._engine = \u001b[36mself\u001b[39;49;00m._make_engine(f, \u001b[36mself\u001b[39;49;00m.engine)\n",
      "File \u001b[0;34mC:\\Program Files\\ArcGIS\\Pro\\bin\\Python\\envs\\arcgispro-py3\\Lib\\site-packages\\pandas\\io\\parsers\\readers.py\u001b[0m, in \u001b[0;32m_make_engine\u001b[0m:\nLine \u001b[0;34m1216\u001b[0m:  \u001b[36mself\u001b[39;49;00m.handles = get_handle(  \u001b[37m# type: ignore[call-overload]\u001b[39;49;00m\n",
      "File \u001b[0;34mC:\\Program Files\\ArcGIS\\Pro\\bin\\Python\\envs\\arcgispro-py3\\Lib\\site-packages\\pandas\\io\\common.py\u001b[0m, in \u001b[0;32mget_handle\u001b[0m:\nLine \u001b[0;34m786\u001b[0m:   handle = \u001b[36mopen\u001b[39;49;00m(\n",
      "\u001b[0;31mFileNotFoundError\u001b[0m: [Errno 2] No such file or directory: 'routes.csv'\n\u001b[0;31m---------------------------------------------------------------------------\u001b[0m"
     ]
    }
   ],
   "source": [
    "routes_csv = \"routes.csv\"\n",
    "\n",
    "# Read the csv file\n",
    "routes_df = pd.read_csv(routes_csv, parse_dates=[\"EarliestStartTime\", \"LatestStartTime\"], date_parser=pd.to_datetime)\n",
    "routes_df[\"EarliestStartTime\"] = routes_df[\"EarliestStartTime\"].astype(\"int64\") / 10 ** 6\n",
    "routes_df[\"LatestStartTime\"] = routes_df[\"LatestStartTime\"].astype(\"int64\") / 10 ** 6\n",
    "routes_fset = arcgis.features.FeatureSet.from_dataframe(routes_df)\n",
    "routes_df.head(5)"
   ]
  },
  {
   "cell_type": "markdown",
   "id": "fdf09aef",
   "metadata": {},
   "source": [
    "### 5. Create Depots Layer with an Address"
   ]
  },
  {
   "cell_type": "code",
   "execution_count": null,
   "id": "679aa70f",
   "metadata": {},
   "outputs": [],
   "source": [
    "depot_geocoded_fs = geocoding.geocode(\"5110 Arundel Rakaia Gorge Road, Alford Forest, Mount Somers, Canterbury, 7771\", \n",
    "                                      as_featureset=True, max_locations=1)\n",
    "depot_geocoded_fs.features[0].attributes[\"Name\"] = \"5110 Arundel Rakaia Gorge Road, Alford Forest, Mount Somers, Canterbury, 7771\"\n",
    "depot_geocoded_fs.features\n",
    "depots_fset = depot_geocoded_fs.sdf.spatial.to_featureset()\n",
    "depot_geocoded_fs"
   ]
  },
  {
   "cell_type": "markdown",
   "id": "2a175e15",
   "metadata": {},
   "source": [
    "### 6. Draw the Depots and Orders in map"
   ]
  },
  {
   "cell_type": "code",
   "execution_count": null,
   "id": "e60f7db3",
   "metadata": {},
   "outputs": [],
   "source": [
    "# Create a map instance to visualize inputs in map\n",
    "map_view_inputs = my_gis.map('Christchurch, New Zealand', zoomlevel=8)\n",
    "map_view_inputs"
   ]
  },
  {
   "cell_type": "code",
   "execution_count": null,
   "id": "923427d0",
   "metadata": {},
   "outputs": [],
   "source": [
    "# Visualize order and depot locations with symbology\n",
    "map_view_inputs.draw(orders_fset, symbol={\"type\": \"esriSMS\",\"style\": \"esriSMSCircle\",\"color\": [76,115,0,255],\"size\": 8})\n",
    "map_view_inputs.draw(depot_geocoded_fs, symbol={\"type\": \"esriSMS\",\"style\": \"esriSMSSquare\",\"color\": [255,115,0,255], \"size\": 10})"
   ]
  },
  {
   "cell_type": "markdown",
   "id": "57d828c2",
   "metadata": {},
   "source": [
    "### 7. Solve VRP"
   ]
  },
  {
   "cell_type": "code",
   "execution_count": null,
   "id": "e0e5c1f9",
   "metadata": {},
   "outputs": [],
   "source": [
    "%%time\n",
    "today = datetime.datetime.now()\n",
    "from arcgis.network.analysis import solve_vehicle_routing_problem\n",
    "results = solve_vehicle_routing_problem(orders= orders_fset,\n",
    "                                        depots = depots_fset,\n",
    "                                        routes = routes_fset, \n",
    "                                        save_route_data='true',\n",
    "                                        populate_directions='true',\n",
    "                                        travel_mode=\"Driving Time\",\n",
    "                                        default_date=today)\n",
    "\n",
    "print('Analysis succeeded? {}'.format(results.solve_succeeded))"
   ]
  },
  {
   "cell_type": "markdown",
   "id": "9ee94aa1",
   "metadata": {},
   "source": [
    "### 8. Look into the Results"
   ]
  },
  {
   "cell_type": "code",
   "execution_count": null,
   "id": "c0cb4403",
   "metadata": {},
   "outputs": [],
   "source": [
    "# Display the output routes in a pandas dataframe.\n",
    "out_routes_df = results.out_routes.sdf\n",
    "out_routes_df[['Name','OrderCount','StartTime','EndTime','TotalCost','TotalDistance','TotalTime','TotalTravelTime','StartTimeUTC','EndTimeUTC']]"
   ]
  },
  {
   "cell_type": "code",
   "execution_count": null,
   "id": "1ebccb56",
   "metadata": {},
   "outputs": [],
   "source": [
    "out_stops_df = results.out_stops.sdf\n",
    "out_stops_df[['Name','RouteName','Sequence','ArriveTime','DepartTime']].sort_values(by=['RouteName',\n",
    "                                                                                       'Sequence'])"
   ]
  },
  {
   "cell_type": "markdown",
   "id": "3bfb2618",
   "metadata": {},
   "source": [
    "### 9. Display Output Routes"
   ]
  },
  {
   "cell_type": "code",
   "execution_count": null,
   "id": "162c7ec6",
   "metadata": {},
   "outputs": [],
   "source": [
    "# Create a map instance to visualize inputs in map\n",
    "map_view_outputs = my_gis.map('Christchurch, New Zealand', zoomlevel=8)\n",
    "map_view_outputs"
   ]
  },
  {
   "cell_type": "code",
   "execution_count": null,
   "id": "f7a24cb8",
   "metadata": {},
   "outputs": [],
   "source": [
    "#Visusalize the inputsn with different symbols\n",
    "map_view_outputs.draw(orders_fset, symbol={\"type\": \"esriSMS\",\n",
    "                                           \"style\": \"esriSMSCircle\",\n",
    "                                           \"color\": [76,115,0,255],\"size\": 8})\n",
    "map_view_outputs.draw(depots_fset, symbol={\"type\": \"esriSMS\",\n",
    "                                           \"style\": \"esriSMSSquare\",\n",
    "                                           \"color\": [255,115,0,255], \"size\": 10})\n",
    "\n",
    "#Visualize the first route\n",
    "out_routes_flist = []\n",
    "out_routes_flist.append(results.out_routes.features[0])\n",
    "out_routes_fset = []\n",
    "out_routes_fset = FeatureSet(out_routes_flist)\n",
    "map_view_outputs.draw(out_routes_fset, \n",
    "                      symbol={\"type\": \"esriSLS\",\n",
    "                              \"style\": \"esriSLSSolid\",\n",
    "                              \"color\": [0,100,240,255],\"size\":10})\n",
    "\n",
    "#Visualize the second route\n",
    "out_routes_flist = []\n",
    "out_routes_flist.append(results.out_routes.features[1])\n",
    "out_routes_fset = []\n",
    "out_routes_fset = FeatureSet(out_routes_flist)\n",
    "map_view_outputs.draw(out_routes_fset, \n",
    "                      symbol={\"type\": \"esriSLS\",\n",
    "                              \"style\": \"esriSLSSolid\",\n",
    "                              \"color\": [255,0,0,255],\"size\":10})"
   ]
  },
  {
   "cell_type": "markdown",
   "id": "f12682fc",
   "metadata": {},
   "source": [
    "### 10. Create Route Layers for Navigation"
   ]
  },
  {
   "cell_type": "code",
   "execution_count": null,
   "id": "b5c54dc0",
   "metadata": {},
   "outputs": [
    {
     "ename": "NameError",
     "evalue": "name 'results' is not defined",
     "output_type": "error",
     "traceback": [
      "\u001b[0;31m---------------------------------------------------------------------------\u001b[0m\n\u001b[0;31mNameError\u001b[0m                                 Traceback (most recent call last)",
      "In  \u001b[0;34m[6]\u001b[0m:\nLine \u001b[0;34m1\u001b[0m:     route_data = results.out_route_data.download(\u001b[33m'\u001b[39;49;00m\u001b[33m.\u001b[39;49;00m\u001b[33m'\u001b[39;49;00m)\n",
      "\u001b[0;31mNameError\u001b[0m: name 'results' is not defined\n\u001b[0;31m---------------------------------------------------------------------------\u001b[0m"
     ]
    }
   ],
   "source": [
    "route_data = results.out_route_data.download('.')\n",
    "route_data_item = my_gis.content.add({\"type\": \"File Geodatabase\"}, route_data)\n",
    "route_layers = arcgis.features.analysis.create_route_layers(route_data_item, \n",
    "                                                            delete_route_data_item=True)\n",
    "for route_layer in route_layers:\n",
    "    route_layer.share(org=True)\n",
    "    display(route_layer.homepage)\n",
    "    display(route_layer)"
   ]
  },
  {
   "cell_type": "markdown",
   "id": "659af279",
   "metadata": {},
   "source": [
    "### 11. Conclusion\n",
    "The routes are ready for navigation. In this way, you can convert a workflow into a python Script to solve VRP."
   ]
  },
  {
   "cell_type": "code",
   "execution_count": null,
   "id": "57181c9b",
   "metadata": {},
   "outputs": [],
   "source": []
  },
  {
   "cell_type": "code",
   "execution_count": null,
   "id": "19cbdce3",
   "metadata": {},
   "outputs": [],
   "source": []
  }
 ],
 "metadata": {
  "kernelspec": {
   "display_name": "ArcGISPro",
   "language": "Python",
   "name": "python3"
  },
  "language_info": {
   "file_extension": ".py",
   "name": "python",
   "version": "3"
  }
 },
 "nbformat": 4,
 "nbformat_minor": 5
}
